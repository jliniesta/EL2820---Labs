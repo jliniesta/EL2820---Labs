{
 "cells": [
  {
   "cell_type": "markdown",
   "metadata": {},
   "source": [
    "## <center> EL2820 Modelling of Dynamical Systems </center>\n",
    "# <center> Assignment 2: Transmission Lines </center>"
   ]
  },
  {
   "cell_type": "markdown",
   "metadata": {},
   "source": [
    "In this home-work assignment, you will model a \"Transmission line\". A transmission line is a specialized cable used to transmit high-frequency electrical signals. A standard model is the following:\n",
    "\n",
    "<center> <img src=\"Transmission_img.jpg\" width=\"600\"> </center>\n",
    "\n",
    "The transmission line is represented as the concatenation of $N$ (≫1) basic blocks (like the one shown in the figure), where block 1 is the one to the left, and the $N^{th}$ is the one connected to $R_L$. $R_L$ is an external resistive load connected to the line. \n",
    "\n",
    "**The goal of this assignment is to derive a model of this Transmission line, and to use it to complete the code and there are 7 questions which you need to answer.**\n",
    "\n",
    "**Note:** The provided answers should be well motivated!"
   ]
  },
  {
   "cell_type": "markdown",
   "metadata": {},
   "source": [
    "## Instructions"
   ]
  },
  {
   "cell_type": "markdown",
   "metadata": {},
   "source": [
    "1. *Inspect the code below. You will be asked later to modify only one function, __model__*.\n",
    "\n",
    "2. *Derivation of a model of the Transmission Line, based on the parameters stated in the code below.*"
   ]
  },
  {
   "cell_type": "markdown",
   "metadata": {},
   "source": [
    "- *Which signal (voltage or current) can be considered as input to the left side of the $k^{th}$ basic block? Which signal (voltage or current) can be considered as output of this block to the next $(k+1)^{th}$ basic block? Motivate your answer.*"
   ]
  },
  {
   "cell_type": "markdown",
   "metadata": {},
   "source": [
    "**Write your answer here.**  (*Hint: you can write equations in \"Latex mode\", for example, $\\dot{x} = \\dots$; to show them, execute this block to compile the text.*)"
   ]
  },
  {
   "cell_type": "markdown",
   "metadata": {},
   "source": []
  },
  {
   "cell_type": "markdown",
   "metadata": {},
   "source": [
    "- *Compute the transfer function from the input to the output of the $k^{th}$ basic block, considered as an isolated circuit. If the transmission line consists of $N$ of such blocks, can the relation between $V$ and the current through $R_L$ be computed by concatenating these transfer functions? Explain.*"
   ]
  },
  {
   "cell_type": "markdown",
   "metadata": {},
   "source": [
    "**Write your answer here.**"
   ]
  },
  {
   "cell_type": "markdown",
   "metadata": {},
   "source": []
  },
  {
   "cell_type": "markdown",
   "metadata": {},
   "source": [
    "- *Develop a model of the full transmission line, with $V$ as input, and from which all voltages and currents at the ports can be computed.*"
   ]
  },
  {
   "cell_type": "markdown",
   "metadata": {},
   "source": [
    "**Write your answer here.**"
   ]
  },
  {
   "cell_type": "markdown",
   "metadata": {},
   "source": []
  },
  {
   "cell_type": "markdown",
   "metadata": {},
   "source": [
    "3. *Implement your model in the function __model__ (by replacing the lines \"# FILL IN!...\"). This function uses the global variables __R1__, __R2__, __L__ and __C__ (defined in the code) as parameters, and __v__ with __i__ as state variables, and returns the derivatives of the state as a single vector, based on your answers to Point 2.*"
   ]
  },
  {
   "cell_type": "markdown",
   "metadata": {},
   "source": [
    "4. *Consider now the case where the transmission line has length $M$ , so each basic block has length $M/N$ , and the components of each basic block have values*\n",
    "\n",
    "$\\displaystyle R_1 = \\frac{R_1^o M}{N},\\ R_2 = \\frac{R_2^o N}{M},\\ L = \\frac{L^o M}{N},\\ C = \\frac{C^o M}{N}$.\n",
    "\n",
    "*Note that the definition of $R_2$ differs from the other components. \n",
    "Simulate the model for several values of $N$, with $M = 1$ m, $R_1^o = 0.01$ $Ω$, $R_2^o = 100$ k$Ω$, $L^o = 3$ H, $C^o = 3$ F and $R_L = 1$ $Ω$, where the input voltage ramps from $0$ V to $1$ V within $0.5$ s (and stays at $1$ V afterwards), and plot the voltage for different basic blocks, as a function of k M/N (that is, the location of the block along the transmission line). Describe the results: what conclusions can you draw from the plots?*"
   ]
  },
  {
   "cell_type": "markdown",
   "metadata": {},
   "source": [
    "**Write your answer here.** *Hint:* You can insert images by using the following code:"
   ]
  },
  {
   "cell_type": "raw",
   "metadata": {},
   "source": [
    "<center> <img src=\"figure.jpg\" width=\"600\"> </center>"
   ]
  },
  {
   "cell_type": "markdown",
   "metadata": {},
   "source": []
  },
  {
   "cell_type": "markdown",
   "metadata": {},
   "source": [
    "5. *If you let $N \\to \\infty$, derive a system of partial differential equations (PDE) in $v$ and $i$ describing the voltage at a distance x (=k M/N ) from the left end of the line. If $R_1^o = 0$ and $R_2^o = \\infty$, obtain a single PDE in v; what type of PDE is it?*"
   ]
  },
  {
   "cell_type": "markdown",
   "metadata": {},
   "source": [
    "**Write your answer here.**"
   ]
  },
  {
   "cell_type": "markdown",
   "metadata": {},
   "source": []
  },
  {
   "cell_type": "markdown",
   "metadata": {},
   "source": [
    "6. *Estimate from the simulations in Question 4 the speed of propagation of the voltage along the transmission line. Relate your estimate to the PDE derived in Question 5.*"
   ]
  },
  {
   "cell_type": "markdown",
   "metadata": {},
   "source": [
    "**Write your answer here.**"
   ]
  },
  {
   "cell_type": "markdown",
   "metadata": {},
   "source": []
  },
  {
   "cell_type": "markdown",
   "metadata": {},
   "source": [
    "7)  Repeat the simulations of Question 4, but varying $R_L$ (in particular, try with values smaller and larger than $1$ $\\Omega$). What do you observe?"
   ]
  },
  {
   "cell_type": "markdown",
   "metadata": {},
   "source": [
    "**Write your answer here.**"
   ]
  },
  {
   "cell_type": "markdown",
   "metadata": {},
   "source": []
  },
  {
   "cell_type": "markdown",
   "metadata": {},
   "source": [
    "<br>\n",
    "\n",
    "---"
   ]
  },
  {
   "cell_type": "markdown",
   "metadata": {},
   "source": [
    "## Code"
   ]
  },
  {
   "cell_type": "markdown",
   "metadata": {},
   "source": [
    "The code below imports the necessary libraries for executing this notebook. If you are not able to import any of these libraries, you can install it using the command: *pip install __library_name__*  (to be executed in a command line or terminal window, not inside Python)"
   ]
  },
  {
   "cell_type": "code",
   "execution_count": 1,
   "metadata": {},
   "outputs": [],
   "source": [
    "import numpy as np\n",
    "import matplotlib.pyplot as plt\n",
    "from scipy.integrate import solve_ivp\n",
    "%matplotlib qt"
   ]
  },
  {
   "cell_type": "markdown",
   "metadata": {},
   "source": [
    "<br>\n",
    "\n",
    "Next, let us initialize the parameters and variables required for this system:"
   ]
  },
  {
   "cell_type": "code",
   "execution_count": 7,
   "metadata": {
    "tags": []
   },
   "outputs": [],
   "source": [
    "global N, RL, R1, R2, L, C\n",
    "\n",
    "M  = 1               # Length of transmission line\n",
    "dx = 0.01            # Length of each basic block\n",
    "N  = int(M/dx)       # Number of basic blocks\n",
    "T  = 10              # Time duration of simulation\n",
    "\n",
    "# Parameters of the transmission line (per unit length) and load\n",
    "R1o = 0.0\n",
    "R2o = 1e+13\n",
    "Lo  = 3.0\n",
    "Co  = 3.0\n",
    "RL  = 0.5\n",
    "\n",
    "# Parameters of each basic block\n",
    "R1 = R1o*dx\n",
    "R2 = R2o/dx\n",
    "L  = Lo*dx\n",
    "C  = Co*dx"
   ]
  },
  {
   "cell_type": "markdown",
   "metadata": {},
   "source": [
    "<br>\n",
    "\n",
    "*model():* You NEED to fill this function (in particular the sections \"*#FILL IN...*\"). This function is intended for decribing the Ordinary Differential Equations for the Transmission line setup "
   ]
  },
  {
   "cell_type": "code",
   "execution_count": 3,
   "metadata": {},
   "outputs": [],
   "source": [
    "def model(t, curr_state):\n",
    "    global N, RL, R1, R2, L, C\n",
    "\n",
    "    v = curr_state[0:N]\n",
    "    i = curr_state[N:len(curr_state)]\n",
    "\n",
    "    # Input (Boundary condition)\n",
    "    if t < 0.7:\n",
    "        u = t/0.7\n",
    "    else:\n",
    "        u = 1\n",
    "    \n",
    "    # Initialize vectors der_v and der_i\n",
    "    der_v = np.zeros(N)\n",
    "    der_i = np.zeros(N)\n",
    "    \n",
    "    # FILL IN YOUR CODE HERE TO DETERMINE THE DERIVATIVES OF VECTORS v AND i\n",
    "    # (RECALL THAT, IN PYTHON, VECTOR INDICES START WITH 0)\n",
    "\n",
    "    # Concatenate der_v and der_i\n",
    "    der = np.concatenate((der_v, der_i))\n",
    "\n",
    "    return(der)"
   ]
  },
  {
   "cell_type": "markdown",
   "metadata": {},
   "source": [
    "<br>\n",
    "\n",
    "Below is the main function of this notebook which executes the above function and updates the plot"
   ]
  },
  {
   "cell_type": "code",
   "execution_count": 6,
   "metadata": {
    "tags": []
   },
   "outputs": [],
   "source": [
    "sol = solve_ivp(model, [0, 10], np.zeros(2*N), method='RK45', dense_output=True, rtol=1e-9, atol=1e-9)\n",
    "plt.plot(sol.t, sol.y[0,:], label=\"x = 0.01 m\")\n",
    "plt.plot(sol.t, sol.y[int(N/3),:], label=\"x = 0.333 m\")\n",
    "plt.plot(sol.t, sol.y[int(2*N/3),:], label=\"x = 0.667 m\")\n",
    "plt.plot(sol.t, sol.y[N-1,:], label= \"x = 1 m\")\n",
    "plt.xlabel(\"Time (s)\")\n",
    "plt.ylabel(\"Voltage (V)\")\n",
    "plt.legend(loc=\"upper right\")\n",
    "plt.show()"
   ]
  }
 ],
 "metadata": {
  "kernelspec": {
   "display_name": "Python 3",
   "language": "python",
   "name": "python3"
  },
  "language_info": {
   "codemirror_mode": {
    "name": "ipython",
    "version": 3
   },
   "file_extension": ".py",
   "mimetype": "text/x-python",
   "name": "python",
   "nbconvert_exporter": "python",
   "pygments_lexer": "ipython3",
   "version": "3.8.5"
  }
 },
 "nbformat": 4,
 "nbformat_minor": 4
}
